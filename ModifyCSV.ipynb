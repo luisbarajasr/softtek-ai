{
 "cells": [
  {
   "cell_type": "code",
   "execution_count": 4,
   "metadata": {},
   "outputs": [],
   "source": [
    "import pandas as pd"
   ]
  },
  {
   "cell_type": "code",
   "execution_count": 5,
   "metadata": {},
   "outputs": [],
   "source": [
    "def extract_unique_class_names(filename):\n",
    "    # Read the CSV file\n",
    "    df = pd.read_csv(filename)\n",
    "    \n",
    "    # Extract unique class names\n",
    "    unique_class_names = df['Class Name'].dropna().unique()\n",
    "\n",
    "    return unique_class_names"
   ]
  },
  {
   "cell_type": "code",
   "execution_count": null,
   "metadata": {},
   "outputs": [],
   "source": [
    "filename=\"WomensClothingE-CommerceReviews.csv\"\n",
    "\n",
    "unique_class_names = extract_unique_class_names(filename)\n",
    "print(unique_class_names)"
   ]
  },
  {
   "cell_type": "code",
   "execution_count": 8,
   "metadata": {},
   "outputs": [],
   "source": [
    "def generate_product_name(row):\n",
    "    # Expanded naming scheme\n",
    "    naming_scheme = {\n",
    "        'intimates': ['Lace Intimate', 'Silk Intimate', 'Cotton Intimate'],\n",
    "        'dresses': ['Shift Dress', 'Bodycon Dress', 'Maxi Dress', 'Midi Dress', 'Mini Dress'],\n",
    "        'pants': ['Cargo Pants', 'Chinos', 'Slacks'],\n",
    "        'blouses': ['Ruffle Blouse', 'Silk Blouse', 'Satin Blouse'],\n",
    "        'knits': ['Cable Knit', 'Ribbed Knit', 'Wool Knit'],\n",
    "        'outerwear': ['Trench Coat', 'Bomber Jacket', 'Puffer Jacket'],\n",
    "        'lounge': ['Lounge Pants', 'Lounge Top', 'Lounge Shorts'],\n",
    "        'sweaters': ['V-neck Sweater', 'Crew Neck Sweater', 'Cardigan'],\n",
    "        'skirts': ['A-line Skirt', 'Pencil Skirt', 'Maxi Skirt'],\n",
    "        'fine gauge': ['Fine Gauge Top', 'Fine Gauge Bottom', 'Fine Gauge Dress'],\n",
    "        'sleep': ['Sleep Shirt', 'Sleep Pants', 'Nightgown'],\n",
    "        'jackets': ['Leather Jacket', 'Denim Jacket', 'Blazer'],\n",
    "        'swim': ['Bikini', 'One-piece', 'Tankini'],\n",
    "        'trend': ['Trend Top', 'Trend Bottom', 'Trend Dress'],\n",
    "        'jeans': ['Skinny Jeans', 'Bootcut Jeans', 'Straight Jeans'],\n",
    "        'legwear': ['Tights', 'Leggings', 'Thigh Highs'],\n",
    "        'shorts': ['Denim Shorts', 'Cargo Shorts', 'Bermuda Shorts'],\n",
    "        'layering': ['Layering Tee', 'Layering Tank', 'Layering Shirt'],\n",
    "        'casual bottoms': ['Casual Joggers', 'Casual Shorts', 'Casual Skirt'],\n",
    "        'chemises': ['Lace Chemise', 'Silk Chemise', 'Cotton Chemise']\n",
    "    }\n",
    "\n",
    "    class_name = str(row['Class Name']).lower() if isinstance(row['Class Name'], str) else ''\n",
    "\n",
    "    if class_name in naming_scheme:\n",
    "        # Using modulo to ensure we stay within the list length\n",
    "        # This will just cycle through the names for products with the same class\n",
    "        index = row['Clothing ID'] % len(naming_scheme[class_name])\n",
    "        return naming_scheme[class_name][index]\n",
    "    else:\n",
    "        # Default to class name if not found in naming_scheme\n",
    "        return row['Class Name']"
   ]
  },
  {
   "cell_type": "code",
   "execution_count": 9,
   "metadata": {},
   "outputs": [
    {
     "name": "stdout",
     "output_type": "stream",
     "text": [
      "Done\n"
     ]
    }
   ],
   "source": [
    "# Load the CSV file\n",
    "df = pd.read_csv(filename)\n",
    "\n",
    "# Generate the product name for each row and add it to a new column\n",
    "df['Product Name'] = df.apply(generate_product_name, axis=1)\n",
    "\n",
    "# Save the updated dataframe to a new CSV file\n",
    "df.to_csv('updated_file.csv', index=False)\n",
    "\n",
    "print(\"Done\")"
   ]
  }
 ],
 "metadata": {
  "kernelspec": {
   "display_name": "Python 3",
   "language": "python",
   "name": "python3"
  },
  "language_info": {
   "codemirror_mode": {
    "name": "ipython",
    "version": 3
   },
   "file_extension": ".py",
   "mimetype": "text/x-python",
   "name": "python",
   "nbconvert_exporter": "python",
   "pygments_lexer": "ipython3",
   "version": "3.11.0"
  },
  "orig_nbformat": 4
 },
 "nbformat": 4,
 "nbformat_minor": 2
}
